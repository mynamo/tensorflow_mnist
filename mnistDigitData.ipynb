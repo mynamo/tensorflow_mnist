{
 "cells": [
  {
   "cell_type": "code",
   "execution_count": 81,
   "metadata": {},
   "outputs": [],
   "source": [
    "import tensorflow.keras as keras\n",
    "import tensorflow as tf\n",
    "import pandas as pd\n",
    "import numpy as np\n",
    "import matplotlib.pyplot as plt"
   ]
  },
  {
   "cell_type": "code",
   "execution_count": 82,
   "metadata": {},
   "outputs": [],
   "source": [
    "df = pd.read_csv(\"/Users/adkulkar/Documents/Practice/tensorflow101/tensorflow_mnist/digit-recognizer/train.csv\")\n",
    "df_test = pd.read_csv(\"/Users/adkulkar/Documents/Practice/tensorflow101/tensorflow_mnist/digit-recognizer/test.csv\")\n",
    "\n",
    "x_train = np.array(df.loc[:,\"pixel0\":\"pixel783\"])\n",
    "y_train = np.array(df.loc[:,\"label\"])\n",
    "x_test = np.array(df_test)"
   ]
  },
  {
   "cell_type": "code",
   "execution_count": 83,
   "metadata": {},
   "outputs": [],
   "source": [
    "#Creating the model, flattening the input if its a multi-dimensional matrix\n",
    "model = tf.keras.models.Sequential()\n",
    "# model.add(tf.keras.layers.Flatten())\n",
    "model.add(tf.keras.layers.Dense(128, activation=tf.nn.relu))\n",
    "model.add(tf.keras.layers.Dense(128, activation=tf.nn.relu))\n",
    "model.add(tf.keras.layers.Dense(128, activation=tf.nn.softmax))\n",
    "model.compile(optimizer='adam',\n",
    "              loss='sparse_categorical_crossentropy',\n",
    "              metrics=['accuracy'])\n"
   ]
  },
  {
   "cell_type": "code",
   "execution_count": 84,
   "metadata": {},
   "outputs": [
    {
     "name": "stdout",
     "output_type": "stream",
     "text": [
      "Train on 42000 samples\n",
      "Epoch 1/3\n",
      "42000/42000 [==============================] - 2s 46us/sample - loss: 1.8157 - accuracy: 0.8668\n",
      "Epoch 2/3\n",
      "42000/42000 [==============================] - 2s 38us/sample - loss: 0.3322 - accuracy: 0.9274\n",
      "Epoch 3/3\n",
      "42000/42000 [==============================] - 2s 37us/sample - loss: 0.2252 - accuracy: 0.9428\n"
     ]
    },
    {
     "data": {
      "text/plain": [
       "<tensorflow.python.keras.callbacks.History at 0x147dd8750>"
      ]
     },
     "execution_count": 84,
     "metadata": {},
     "output_type": "execute_result"
    }
   ],
   "source": [
    "#Training the model\n",
    "model.fit(x_train, y_train, epochs = 3)"
   ]
  },
  {
   "cell_type": "code",
   "execution_count": 85,
   "metadata": {},
   "outputs": [],
   "source": [
    "#Testing the model\n",
    "predictions = model.predict(x_test)\n",
    "pred = []\n",
    "for p in predictions:\n",
    "    pred.append(np.argmax(p))\n",
    "\n",
    "# print(pred)"
   ]
  },
  {
   "cell_type": "code",
   "execution_count": 86,
   "metadata": {},
   "outputs": [
    {
     "data": {
      "text/plain": [
       "<matplotlib.image.AxesImage at 0x1480d79d0>"
      ]
     },
     "execution_count": 86,
     "metadata": {},
     "output_type": "execute_result"
    },
    {
     "data": {
      "image/png": "[encoded data removed]",
      "text/plain": [
       "<Figure size 432x288 with 1 Axes>"
      ]
     },
     "metadata": {
      "needs_background": "light"
     },
     "output_type": "display_data"
    }
   ],
   "source": [
    "#Plot number based on the pixel data\n",
    "import matplotlib.pyplot as plt\n",
    "\n",
    "image0 = np.array(df_test.loc[15, :])\n",
    "image0 = image0.reshape(28,28)\n",
    "plt.imshow(image0,cmap=plt.cm.binary)\n",
    "# plt.show()"
   ]
  },
  {
   "cell_type": "code",
   "execution_count": null,
   "metadata": {},
   "outputs": [],
   "source": []
  }
 ],
 "metadata": {
  "kernelspec": {
   "display_name": "Python 3",
   "language": "python",
   "name": "python3"
  },
  "language_info": {
   "codemirror_mode": {
    "name": "ipython",
    "version": 3
   },
   "file_extension": ".py",
   "mimetype": "text/x-python",
   "name": "python",
   "nbconvert_exporter": "python",
   "pygments_lexer": "ipython3",
   "version": "3.7.4"
  }
 },
 "nbformat": 4,
 "nbformat_minor": 2
}
